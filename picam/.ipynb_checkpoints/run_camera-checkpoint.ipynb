{
 "cells": [
  {
   "cell_type": "code",
   "execution_count": 7,
   "metadata": {},
   "outputs": [
    {
     "name": "stdout",
     "output_type": "stream",
     "text": [
      "initializing...\n",
      "PICam Library Version 5.10.1.2008\n",
      "getting camera temp...\n",
      "Camera temperature is -120.000000 C\n",
      "setting camera temp...\n",
      "setting binning...\n",
      "sending configuration...\n"
     ]
    }
   ],
   "source": [
    "## Initialize Camera and settings\n",
    "from picam import *\n",
    "import matplotlib.pyplot as plt\n",
    "import numpy as np\n",
    "import time\n",
    "import pylab as pl\n",
    "from IPython import display\n",
    "from python_to_labview import *\n",
    "\n",
    "# initialize CCD\n",
    "print \"initializing...\"\n",
    "initializeCamera()\n",
    "\n",
    "# get camera temperature\n",
    "print \"getting camera temp...\"\n",
    "temp = getCameraTemperature()\n",
    "print \"Camera temperature is %f C\" % temp\n",
    "\n",
    "# this will cool down CCD\n",
    "print \"setting camera temp...\"\n",
    "setCameraTemperature(-120)\n",
    "\n",
    "# set binning\n",
    "print \"setting binning...\"\n",
    "setROI(1,1340,1,1,100,100)\n",
    "\n",
    "# send config\n",
    "print \"sending configuration...\"\n",
    "sendConfiguration()"
   ]
  },
  {
   "cell_type": "code",
   "execution_count": 8,
   "metadata": {},
   "outputs": [],
   "source": [
    "## Calibration for x-axis:\n",
    "\n",
    "px1 = 10.0\n",
    "px2 = 1000.0\n",
    "\n",
    "lambda1 = 547.1*10**(-7)\n",
    "lambda2 = 532*10**(-7)\n",
    "\n",
    "laser = 532*10**(-7)\n",
    "\n",
    "raman = range(0,1340)\n",
    "pixel = range(0,1340)\n",
    "wavelen = range(0,1340)\n",
    "for i in range(0,1340):\n",
    "    pixel[i] = i+1 \n",
    "    wavelen[i] = (pixel[i]*(lambda2-lambda1)/(px2-px1) + (lambda2*px1 - lambda1*px2)/(px1-px2))*10**(7)\n",
    "    raman[i] = 1/laser - 1/(wavelen[i]*10**(-7))"
   ]
  },
  {
   "cell_type": "code",
   "execution_count": 9,
   "metadata": {},
   "outputs": [
    {
     "name": "stdout",
     "output_type": "stream",
     "text": [
      "Using matplotlib backend: TkAgg\n"
     ]
    }
   ],
   "source": [
    "## Take a single frame\n",
    "%matplotlib\n",
    "plt.ion()\n",
    "\n",
    "exp_in_seconds = 0.1\n",
    "setExposure(1000*exp_in_seconds)\n",
    "sendConfiguration()\n",
    "\n",
    "startAcquisition()\n",
    "data = waitForFrame()\n",
    "time.sleep(0.1)\n",
    "plt.figure()\n",
    "plt.plot(pixel,data[0])\n",
    "plt.show()"
   ]
  },
  {
   "cell_type": "code",
   "execution_count": 52,
   "metadata": {},
   "outputs": [],
   "source": [
    "## Write data to a file:\n",
    "file = open(\"test.txt\",\"w+\")\n",
    "\n",
    "for i in range(0,1340):\n",
    "     file.write(\"%d %d\\r\" % (pixel[i],data[0][i]))\n",
    "        \n",
    "file.close()\n"
   ]
  },
  {
   "cell_type": "code",
   "execution_count": 10,
   "metadata": {},
   "outputs": [
    {
     "name": "stdout",
     "output_type": "stream",
     "text": [
      "Using matplotlib backend: TkAgg\n"
     ]
    }
   ],
   "source": [
    "## Take a many frames\n",
    "%matplotlib\n",
    "plt.ion\n",
    "\n",
    "exp_in_seconds = 0.001\n",
    "setExposure(1000*exp_in_seconds)\n",
    "sendConfiguration()\n",
    "\n",
    "num_frames = 10\n",
    "\n",
    "fig = plt.figure()\n",
    "ax = fig.add_subplot(111)\n",
    "startAcquisition()\n",
    "data = waitForFrame()\n",
    "line1, = ax.plot(pixel, data[0], 'b-')\n",
    "\n",
    "for phase in range(0,num_frames):\n",
    "    startAcquisition()\n",
    "    data = waitForFrame()\n",
    "    line1.set_ydata(data[0])\n",
    "    fig.canvas.draw()\n"
   ]
  },
  {
   "cell_type": "code",
   "execution_count": 11,
   "metadata": {},
   "outputs": [
    {
     "name": "stdout",
     "output_type": "stream",
     "text": [
      "closing camera...\n",
      "Unloaded PICamSDK\n",
      "goodbye\n"
     ]
    }
   ],
   "source": [
    "# close camera\n",
    "print \"closing camera...\"\n",
    "closeCamera()\n",
    "print \"goodbye\""
   ]
  },
  {
   "cell_type": "code",
   "execution_count": 16,
   "metadata": {},
   "outputs": [
    {
     "name": "stdout",
     "output_type": "stream",
     "text": [
      "Using matplotlib backend: TkAgg\n"
     ]
    }
   ],
   "source": []
  },
  {
   "cell_type": "code",
   "execution_count": null,
   "metadata": {},
   "outputs": [],
   "source": []
  }
 ],
 "metadata": {
  "kernelspec": {
   "display_name": "Python 2",
   "language": "python",
   "name": "python2"
  },
  "language_info": {
   "codemirror_mode": {
    "name": "ipython",
    "version": 2
   },
   "file_extension": ".py",
   "mimetype": "text/x-python",
   "name": "python",
   "nbconvert_exporter": "python",
   "pygments_lexer": "ipython2",
   "version": "2.7.18"
  }
 },
 "nbformat": 4,
 "nbformat_minor": 2
}
